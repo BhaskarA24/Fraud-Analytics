{
 "cells": [
  {
   "cell_type": "code",
   "execution_count": 1,
   "metadata": {
    "executionInfo": {
     "elapsed": 1445,
     "status": "ok",
     "timestamp": 1624532589105,
     "user": {
      "displayName": "naveen gowda",
      "photoUrl": "https://lh3.googleusercontent.com/a-/AOh14GilXoUmyzU6gNcwaAZPt1C_W62K-GqnMLj6Exrxaw=s64",
      "userId": "02305451435924133626"
     },
     "user_tz": -330
    },
    "id": "hqW59WqSgBkz"
   },
   "outputs": [],
   "source": [
    "import pandas as pd \n",
    "import numpy as np\n",
    "import seaborn as sns\n",
    "from sklearn.preprocessing import LabelEncoder\n",
    "import matplotlib.pyplot as plt\n",
    "from sklearn.preprocessing import scale \n",
    "from sklearn.model_selection import train_test_split \n",
    "#from sklearn.model_selection import train_test_split # train and test \n",
    "from sklearn import metrics\n",
    "#from sklearn import preprocessing\n",
    "from sklearn.metrics import classification_report "
   ]
  },
  {
   "cell_type": "markdown",
   "metadata": {
    "id": "1kWZcCr7BMn_"
   },
   "source": [
    "Loading the dataset"
   ]
  },
  {
   "cell_type": "code",
   "execution_count": 2,
   "metadata": {
    "colab": {
     "base_uri": "https://localhost:8080/"
    },
    "executionInfo": {
     "elapsed": 100698,
     "status": "ok",
     "timestamp": 1624532704884,
     "user": {
      "displayName": "naveen gowda",
      "photoUrl": "https://lh3.googleusercontent.com/a-/AOh14GilXoUmyzU6gNcwaAZPt1C_W62K-GqnMLj6Exrxaw=s64",
      "userId": "02305451435924133626"
     },
     "user_tz": -330
    },
    "id": "8Xn6Rr87gRHe",
    "outputId": "f8319989-481e-40fe-c1bd-851dfaeccf27"
   },
   "outputs": [
    {
     "name": "stdout",
     "output_type": "stream",
     "text": [
      "Mounted at /content/drive\n"
     ]
    }
   ],
   "source": [
    "from google.colab import drive\n",
    "drive.mount('/content/drive')"
   ]
  },
  {
   "cell_type": "code",
   "execution_count": 3,
   "metadata": {
    "colab": {
     "base_uri": "https://localhost:8080/",
     "height": 452
    },
    "executionInfo": {
     "elapsed": 6285,
     "status": "ok",
     "timestamp": 1624532716345,
     "user": {
      "displayName": "naveen gowda",
      "photoUrl": "https://lh3.googleusercontent.com/a-/AOh14GilXoUmyzU6gNcwaAZPt1C_W62K-GqnMLj6Exrxaw=s64",
      "userId": "02305451435924133626"
     },
     "user_tz": -330
    },
    "id": "Jzv9lbtWgRKV",
    "outputId": "7192109d-486e-46a9-8f24-b1abf782b961"
   },
   "outputs": [
    {
     "data": {
      "text/html": [
       "<div>\n",
       "<style scoped>\n",
       "    .dataframe tbody tr th:only-of-type {\n",
       "        vertical-align: middle;\n",
       "    }\n",
       "\n",
       "    .dataframe tbody tr th {\n",
       "        vertical-align: top;\n",
       "    }\n",
       "\n",
       "    .dataframe thead th {\n",
       "        text-align: right;\n",
       "    }\n",
       "</style>\n",
       "<table border=\"1\" class=\"dataframe\">\n",
       "  <thead>\n",
       "    <tr style=\"text-align: right;\">\n",
       "      <th></th>\n",
       "      <th>Area_Service</th>\n",
       "      <th>Hospital County</th>\n",
       "      <th>Hospital Id</th>\n",
       "      <th>Age</th>\n",
       "      <th>Gender</th>\n",
       "      <th>Cultural_group</th>\n",
       "      <th>ethnicity</th>\n",
       "      <th>Days_spend_hsptl</th>\n",
       "      <th>Admission_type</th>\n",
       "      <th>Home or self care,</th>\n",
       "      <th>ccs_diagnosis_code</th>\n",
       "      <th>ccs_procedure_code</th>\n",
       "      <th>apr_drg_description</th>\n",
       "      <th>Code_illness</th>\n",
       "      <th>Mortality risk</th>\n",
       "      <th>Surg_Description</th>\n",
       "      <th>Weight_baby</th>\n",
       "      <th>Abortion</th>\n",
       "      <th>Emergency dept_yes/No</th>\n",
       "      <th>Tot_charg</th>\n",
       "      <th>Tot_cost</th>\n",
       "      <th>ratio_of_total_costs_to_total_charges</th>\n",
       "      <th>Result</th>\n",
       "      <th>Payment_Typology</th>\n",
       "    </tr>\n",
       "  </thead>\n",
       "  <tbody>\n",
       "    <tr>\n",
       "      <th>0</th>\n",
       "      <td>Western NY</td>\n",
       "      <td>Allegany</td>\n",
       "      <td>37.0</td>\n",
       "      <td>30 to 49</td>\n",
       "      <td>F</td>\n",
       "      <td>White</td>\n",
       "      <td>Not Span/Hispanic</td>\n",
       "      <td>4</td>\n",
       "      <td>Elective</td>\n",
       "      <td>Home or Self Care</td>\n",
       "      <td>122</td>\n",
       "      <td>0</td>\n",
       "      <td>Other pneumonia</td>\n",
       "      <td>1</td>\n",
       "      <td>1.0</td>\n",
       "      <td>Medical</td>\n",
       "      <td>0</td>\n",
       "      <td>N</td>\n",
       "      <td>Y</td>\n",
       "      <td>5511.95</td>\n",
       "      <td>5582.49</td>\n",
       "      <td>1.012798</td>\n",
       "      <td>1</td>\n",
       "      <td>1</td>\n",
       "    </tr>\n",
       "    <tr>\n",
       "      <th>1</th>\n",
       "      <td>Western NY</td>\n",
       "      <td>Allegany</td>\n",
       "      <td>37.0</td>\n",
       "      <td>70 or Older</td>\n",
       "      <td>F</td>\n",
       "      <td>White</td>\n",
       "      <td>Not Span/Hispanic</td>\n",
       "      <td>4</td>\n",
       "      <td>Urgent</td>\n",
       "      <td>Short-term Hospital</td>\n",
       "      <td>197</td>\n",
       "      <td>0</td>\n",
       "      <td>Cellulitis &amp; other skin infections</td>\n",
       "      <td>3</td>\n",
       "      <td>2.0</td>\n",
       "      <td>Medical</td>\n",
       "      <td>0</td>\n",
       "      <td>N</td>\n",
       "      <td>Y</td>\n",
       "      <td>4783.20</td>\n",
       "      <td>5162.82</td>\n",
       "      <td>1.079365</td>\n",
       "      <td>1</td>\n",
       "      <td>1</td>\n",
       "    </tr>\n",
       "    <tr>\n",
       "      <th>2</th>\n",
       "      <td>Western NY</td>\n",
       "      <td>Allegany</td>\n",
       "      <td>37.0</td>\n",
       "      <td>30 to 49</td>\n",
       "      <td>F</td>\n",
       "      <td>White</td>\n",
       "      <td>Not Span/Hispanic</td>\n",
       "      <td>3</td>\n",
       "      <td>Urgent</td>\n",
       "      <td>Home or Self Care</td>\n",
       "      <td>122</td>\n",
       "      <td>0</td>\n",
       "      <td>Other pneumonia</td>\n",
       "      <td>1</td>\n",
       "      <td>1.0</td>\n",
       "      <td>Medical</td>\n",
       "      <td>0</td>\n",
       "      <td>N</td>\n",
       "      <td>Y</td>\n",
       "      <td>3829.15</td>\n",
       "      <td>4056.52</td>\n",
       "      <td>1.059379</td>\n",
       "      <td>1</td>\n",
       "      <td>1</td>\n",
       "    </tr>\n",
       "    <tr>\n",
       "      <th>3</th>\n",
       "      <td>Western NY</td>\n",
       "      <td>Allegany</td>\n",
       "      <td>37.0</td>\n",
       "      <td>0 to 17</td>\n",
       "      <td>F</td>\n",
       "      <td>White</td>\n",
       "      <td>Not Span/Hispanic</td>\n",
       "      <td>1</td>\n",
       "      <td>Urgent</td>\n",
       "      <td>Home or Self Care</td>\n",
       "      <td>122</td>\n",
       "      <td>0</td>\n",
       "      <td>Other pneumonia</td>\n",
       "      <td>1</td>\n",
       "      <td>1.0</td>\n",
       "      <td>Medical</td>\n",
       "      <td>0</td>\n",
       "      <td>N</td>\n",
       "      <td>Y</td>\n",
       "      <td>1108.20</td>\n",
       "      <td>1644.75</td>\n",
       "      <td>1.484167</td>\n",
       "      <td>0</td>\n",
       "      <td>1</td>\n",
       "    </tr>\n",
       "    <tr>\n",
       "      <th>4</th>\n",
       "      <td>Western NY</td>\n",
       "      <td>Allegany</td>\n",
       "      <td>37.0</td>\n",
       "      <td>70 or Older</td>\n",
       "      <td>F</td>\n",
       "      <td>White</td>\n",
       "      <td>Not Span/Hispanic</td>\n",
       "      <td>3</td>\n",
       "      <td>Elective</td>\n",
       "      <td>Home or Self Care</td>\n",
       "      <td>122</td>\n",
       "      <td>0</td>\n",
       "      <td>Other pneumonia</td>\n",
       "      <td>2</td>\n",
       "      <td>3.0</td>\n",
       "      <td>Medical</td>\n",
       "      <td>0</td>\n",
       "      <td>N</td>\n",
       "      <td>Y</td>\n",
       "      <td>3418.18</td>\n",
       "      <td>3370.87</td>\n",
       "      <td>0.986161</td>\n",
       "      <td>1</td>\n",
       "      <td>1</td>\n",
       "    </tr>\n",
       "  </tbody>\n",
       "</table>\n",
       "</div>"
      ],
      "text/plain": [
       "  Area_Service Hospital County  ...  Result Payment_Typology\n",
       "0   Western NY        Allegany  ...       1                1\n",
       "1   Western NY        Allegany  ...       1                1\n",
       "2   Western NY        Allegany  ...       1                1\n",
       "3   Western NY        Allegany  ...       0                1\n",
       "4   Western NY        Allegany  ...       1                1\n",
       "\n",
       "[5 rows x 24 columns]"
      ]
     },
     "execution_count": 3,
     "metadata": {
      "tags": []
     },
     "output_type": "execute_result"
    }
   ],
   "source": [
    "data = pd.read_csv(\"/content/drive/MyDrive/Insurance Dataset.csv\")\n",
    "data.head()"
   ]
  },
  {
   "cell_type": "code",
   "execution_count": null,
   "metadata": {
    "id": "gU9rh9lJgRM9"
   },
   "outputs": [],
   "source": [
    "#The method .copy() is used here so that any changes made in new DataFrame don't get reflected in the original one\n",
    "data1=data.copy()"
   ]
  },
  {
   "cell_type": "code",
   "execution_count": 5,
   "metadata": {
    "colab": {
     "base_uri": "https://localhost:8080/",
     "height": 410
    },
    "executionInfo": {
     "elapsed": 1323,
     "status": "ok",
     "timestamp": 1624532866166,
     "user": {
      "displayName": "naveen gowda",
      "photoUrl": "https://lh3.googleusercontent.com/a-/AOh14GilXoUmyzU6gNcwaAZPt1C_W62K-GqnMLj6Exrxaw=s64",
      "userId": "02305451435924133626"
     },
     "user_tz": -330
    },
    "id": "uJnbrReWsq6R",
    "outputId": "f732118a-57f4-4e47-e83a-17a392f3f14d"
   },
   "outputs": [
    {
     "name": "stderr",
     "output_type": "stream",
     "text": [
      "/usr/local/lib/python3.7/dist-packages/seaborn/_decorators.py:43: FutureWarning: Pass the following variable as a keyword arg: x. From version 0.12, the only valid positional argument will be `data`, and passing other arguments without an explicit keyword will result in an error or misinterpretation.\n",
      "  FutureWarning\n"
     ]
    },
    {
     "data": {
      "text/plain": [
       "<matplotlib.axes._subplots.AxesSubplot at 0x7fea26af2e90>"
      ]
     },
     "execution_count": 5,
     "metadata": {
      "tags": []
     },
     "output_type": "execute_result"
    },
    {
     "data": {
      "image/png": "[encoded data removed]",
      "text/plain": [
       "<Figure size 720x360 with 1 Axes>"
      ]
     },
     "metadata": {
      "needs_background": "light",
      "tags": []
     },
     "output_type": "display_data"
    }
   ],
   "source": [
    "plt.figure(figsize=(10,5))\n",
    "sns.countplot(data['Age'])"
   ]
  },
  {
   "cell_type": "markdown",
   "metadata": {
    "id": "ljD8DWqXBpjg"
   },
   "source": [
    "Performing EDA\n",
    "Checking for null values"
   ]
  },
  {
   "cell_type": "code",
   "execution_count": null,
   "metadata": {
    "colab": {
     "base_uri": "https://localhost:8080/"
    },
    "id": "SOX64gaNgRYo",
    "outputId": "311b8b76-d16e-41fc-f6d2-4d21bc0fe200"
   },
   "outputs": [
    {
     "name": "stdout",
     "output_type": "stream",
     "text": [
      "<class 'pandas.core.frame.DataFrame'>\n",
      "RangeIndex: 1048575 entries, 0 to 1048574\n",
      "Data columns (total 24 columns):\n",
      " #   Column                                 Non-Null Count    Dtype  \n",
      "---  ------                                 --------------    -----  \n",
      " 0   Area_Service                           1046119 non-null  object \n",
      " 1   Hospital County                        1046119 non-null  object \n",
      " 2   Hospital Id                            1046119 non-null  float64\n",
      " 3   Age                                    1048575 non-null  object \n",
      " 4   Gender                                 1048575 non-null  object \n",
      " 5   Cultural_group                         1048575 non-null  object \n",
      " 6   ethnicity                              1048575 non-null  object \n",
      " 7   Days_spend_hsptl                       1048575 non-null  object \n",
      " 8   Admission_type                         1048575 non-null  object \n",
      " 9   Home or self care,                     1048575 non-null  object \n",
      " 10  ccs_diagnosis_code                     1048575 non-null  int64  \n",
      " 11  ccs_procedure_code                     1048575 non-null  int64  \n",
      " 12  apr_drg_description                    1048575 non-null  object \n",
      " 13  Code_illness                           1048575 non-null  int64  \n",
      " 14  Mortality risk                         1048533 non-null  float64\n",
      " 15  Surg_Description                       1048575 non-null  object \n",
      " 16  Weight_baby                            1048575 non-null  int64  \n",
      " 17  Abortion                               1048575 non-null  object \n",
      " 18  Emergency dept_yes/No                  1048575 non-null  object \n",
      " 19  Tot_charg                              1048575 non-null  float64\n",
      " 20  Tot_cost                               1048575 non-null  float64\n",
      " 21  ratio_of_total_costs_to_total_charges  1048575 non-null  float64\n",
      " 22  Result                                 1048575 non-null  int64  \n",
      " 23  Payment_Typology                       1048575 non-null  int64  \n",
      "dtypes: float64(5), int64(6), object(13)\n",
      "memory usage: 192.0+ MB\n"
     ]
    }
   ],
   "source": [
    "data1.info()"
   ]
  },
  {
   "cell_type": "code",
   "execution_count": null,
   "metadata": {
    "colab": {
     "base_uri": "https://localhost:8080/"
    },
    "id": "vDP_ZVuLhM2D",
    "outputId": "39aa5ae4-9f91-496f-8a33-0453446ed73f"
   },
   "outputs": [
    {
     "data": {
      "text/plain": [
       "(1048575, 24)"
      ]
     },
     "execution_count": 7,
     "metadata": {
      "tags": []
     },
     "output_type": "execute_result"
    }
   ],
   "source": [
    "data1.shape"
   ]
  },
  {
   "cell_type": "code",
   "execution_count": null,
   "metadata": {
    "colab": {
     "base_uri": "https://localhost:8080/"
    },
    "id": "ErdLtRZLhMvJ",
    "outputId": "93ae99a8-df40-4b7a-c244-63c13ae3fea2"
   },
   "outputs": [
    {
     "data": {
      "text/plain": [
       "Area_Service                             2456\n",
       "Hospital County                          2456\n",
       "Hospital Id                              2456\n",
       "Age                                         0\n",
       "Gender                                      0\n",
       "Cultural_group                              0\n",
       "ethnicity                                   0\n",
       "Days_spend_hsptl                            0\n",
       "Admission_type                              0\n",
       "Home or self care,                          0\n",
       "ccs_diagnosis_code                          0\n",
       "ccs_procedure_code                          0\n",
       "apr_drg_description                         0\n",
       "Code_illness                                0\n",
       "Mortality risk                             42\n",
       "Surg_Description                            0\n",
       "Weight_baby                                 0\n",
       "Abortion                                    0\n",
       "Emergency dept_yes/No                       0\n",
       "Tot_charg                                   0\n",
       "Tot_cost                                    0\n",
       "ratio_of_total_costs_to_total_charges       0\n",
       "Result                                      0\n",
       "Payment_Typology                            0\n",
       "dtype: int64"
      ]
     },
     "execution_count": 8,
     "metadata": {
      "tags": []
     },
     "output_type": "execute_result"
    }
   ],
   "source": [
    "data1.isna().sum()"
   ]
  },
  {
   "cell_type": "markdown",
   "metadata": {
    "id": "QP9E1Hd4CANE"
   },
   "source": [
    "# checking the mode of Area_Service,Hospital Id,Hospital County,Mortality risk"
   ]
  },
  {
   "cell_type": "code",
   "execution_count": null,
   "metadata": {
    "colab": {
     "base_uri": "https://localhost:8080/"
    },
    "id": "JbYKK-O-CDak",
    "outputId": "bd8b372c-2822-484a-871a-aca68a4cdc3e"
   },
   "outputs": [
    {
     "data": {
      "text/plain": [
       "0    Hudson Valley\n",
       "dtype: object"
      ]
     },
     "execution_count": 9,
     "metadata": {
      "tags": []
     },
     "output_type": "execute_result"
    }
   ],
   "source": [
    "data1['Area_Service'].mode()"
   ]
  },
  {
   "cell_type": "code",
   "execution_count": null,
   "metadata": {
    "colab": {
     "base_uri": "https://localhost:8080/"
    },
    "id": "zS7fe3RaCDQi",
    "outputId": "8cb0569e-eb06-423e-d178-d33e88d53487"
   },
   "outputs": [
    {
     "data": {
      "text/plain": [
       "0    413.0\n",
       "dtype: float64"
      ]
     },
     "execution_count": 10,
     "metadata": {
      "tags": []
     },
     "output_type": "execute_result"
    }
   ],
   "source": [
    "data1['Hospital Id'].mode()"
   ]
  },
  {
   "cell_type": "code",
   "execution_count": null,
   "metadata": {
    "colab": {
     "base_uri": "https://localhost:8080/"
    },
    "id": "wn2wj8X7CDGO",
    "outputId": "66d1539d-64d3-4b66-9db9-250a50af7344"
   },
   "outputs": [
    {
     "data": {
      "text/plain": [
       "0    Erie\n",
       "dtype: object"
      ]
     },
     "execution_count": 11,
     "metadata": {
      "tags": []
     },
     "output_type": "execute_result"
    }
   ],
   "source": [
    "data1['Hospital County'].mode()"
   ]
  },
  {
   "cell_type": "code",
   "execution_count": null,
   "metadata": {
    "colab": {
     "base_uri": "https://localhost:8080/"
    },
    "id": "1tmril5ACC56",
    "outputId": "49a5b319-0105-413f-8c9d-65a85bd6a2d5"
   },
   "outputs": [
    {
     "data": {
      "text/plain": [
       "0    1.0\n",
       "dtype: float64"
      ]
     },
     "execution_count": 12,
     "metadata": {
      "tags": []
     },
     "output_type": "execute_result"
    }
   ],
   "source": [
    "data1['Mortality risk'].mode()"
   ]
  },
  {
   "cell_type": "markdown",
   "metadata": {
    "id": "XHEL5xQeCY8X"
   },
   "source": [
    " Fill nan values with mode value"
   ]
  },
  {
   "cell_type": "code",
   "execution_count": null,
   "metadata": {
    "id": "WtGSZRezhMkC"
   },
   "outputs": [],
   "source": [
    "data1[\"Area_Service\"].fillna('Hudson Valley',inplace=True) # data['Area_Service'].mode() = Hudson Valley\n",
    "data1[\"Hospital Id\"].fillna(413.0,inplace=True) # data['Hospital Id'].mode() = 413.0\n",
    "data1[\"Hospital County\"].fillna('Erie',inplace=True) # data['Hospital County'].mode() = Erie\n",
    "data1[\"Mortality risk\"].fillna(1.0,inplace=True) # data['Mortality risk'].mode() = 1.0"
   ]
  },
  {
   "cell_type": "code",
   "execution_count": null,
   "metadata": {
    "colab": {
     "base_uri": "https://localhost:8080/"
    },
    "id": "1MZ_LkJ6hv2B",
    "outputId": "a30fbbc4-9370-4a77-cb5c-bc087b915b49"
   },
   "outputs": [
    {
     "data": {
      "text/plain": [
       "Area_Service                             0\n",
       "Hospital County                          0\n",
       "Hospital Id                              0\n",
       "Age                                      0\n",
       "Gender                                   0\n",
       "Cultural_group                           0\n",
       "ethnicity                                0\n",
       "Days_spend_hsptl                         0\n",
       "Admission_type                           0\n",
       "Home or self care,                       0\n",
       "ccs_diagnosis_code                       0\n",
       "ccs_procedure_code                       0\n",
       "apr_drg_description                      0\n",
       "Code_illness                             0\n",
       "Mortality risk                           0\n",
       "Surg_Description                         0\n",
       "Weight_baby                              0\n",
       "Abortion                                 0\n",
       "Emergency dept_yes/No                    0\n",
       "Tot_charg                                0\n",
       "Tot_cost                                 0\n",
       "ratio_of_total_costs_to_total_charges    0\n",
       "Result                                   0\n",
       "Payment_Typology                         0\n",
       "dtype: int64"
      ]
     },
     "execution_count": 14,
     "metadata": {
      "tags": []
     },
     "output_type": "execute_result"
    }
   ],
   "source": [
    "data1.isna().sum() # it is clear that the data is cleaned"
   ]
  },
  {
   "cell_type": "markdown",
   "metadata": {
    "id": "C1-4prljChI_"
   },
   "source": [
    "# Checking for duplicte rows"
   ]
  },
  {
   "cell_type": "code",
   "execution_count": null,
   "metadata": {
    "colab": {
     "base_uri": "https://localhost:8080/",
     "height": 843
    },
    "id": "DTsQZ8zih61h",
    "outputId": "ef009a62-ba37-4b4d-a022-0e750cd273f8"
   },
   "outputs": [
    {
     "data": {
      "text/html": [
       "<div>\n",
       "<style scoped>\n",
       "    .dataframe tbody tr th:only-of-type {\n",
       "        vertical-align: middle;\n",
       "    }\n",
       "\n",
       "    .dataframe tbody tr th {\n",
       "        vertical-align: top;\n",
       "    }\n",
       "\n",
       "    .dataframe thead th {\n",
       "        text-align: right;\n",
       "    }\n",
       "</style>\n",
       "<table border=\"1\" class=\"dataframe\">\n",
       "  <thead>\n",
       "    <tr style=\"text-align: right;\">\n",
       "      <th></th>\n",
       "      <th>Area_Service</th>\n",
       "      <th>Hospital County</th>\n",
       "      <th>Hospital Id</th>\n",
       "      <th>Age</th>\n",
       "      <th>Gender</th>\n",
       "      <th>Cultural_group</th>\n",
       "      <th>ethnicity</th>\n",
       "      <th>Days_spend_hsptl</th>\n",
       "      <th>Admission_type</th>\n",
       "      <th>Home or self care,</th>\n",
       "      <th>ccs_diagnosis_code</th>\n",
       "      <th>ccs_procedure_code</th>\n",
       "      <th>apr_drg_description</th>\n",
       "      <th>Code_illness</th>\n",
       "      <th>Mortality risk</th>\n",
       "      <th>Surg_Description</th>\n",
       "      <th>Weight_baby</th>\n",
       "      <th>Abortion</th>\n",
       "      <th>Emergency dept_yes/No</th>\n",
       "      <th>Tot_charg</th>\n",
       "      <th>Tot_cost</th>\n",
       "      <th>ratio_of_total_costs_to_total_charges</th>\n",
       "      <th>Result</th>\n",
       "      <th>Payment_Typology</th>\n",
       "    </tr>\n",
       "  </thead>\n",
       "  <tbody>\n",
       "    <tr>\n",
       "      <th>1125</th>\n",
       "      <td>Western NY</td>\n",
       "      <td>Allegany</td>\n",
       "      <td>39.0</td>\n",
       "      <td>0 to 17</td>\n",
       "      <td>M</td>\n",
       "      <td>White</td>\n",
       "      <td>Not Span/Hispanic</td>\n",
       "      <td>2</td>\n",
       "      <td>Newborn</td>\n",
       "      <td>Home or Self Care</td>\n",
       "      <td>218</td>\n",
       "      <td>115</td>\n",
       "      <td>Neonate birthwt &gt;2499g, normal newborn or neon...</td>\n",
       "      <td>1</td>\n",
       "      <td>1.0</td>\n",
       "      <td>Medical</td>\n",
       "      <td>3700</td>\n",
       "      <td>N</td>\n",
       "      <td>N</td>\n",
       "      <td>1678.75</td>\n",
       "      <td>737.21</td>\n",
       "      <td>0.439141</td>\n",
       "      <td>1</td>\n",
       "      <td>1</td>\n",
       "    </tr>\n",
       "    <tr>\n",
       "      <th>3086</th>\n",
       "      <td>Western NY</td>\n",
       "      <td>Cattaraugus</td>\n",
       "      <td>66.0</td>\n",
       "      <td>0 to 17</td>\n",
       "      <td>M</td>\n",
       "      <td>White</td>\n",
       "      <td>Not Span/Hispanic</td>\n",
       "      <td>2</td>\n",
       "      <td>Newborn</td>\n",
       "      <td>Home or Self Care</td>\n",
       "      <td>218</td>\n",
       "      <td>115</td>\n",
       "      <td>Neonate birthwt &gt;2499g, normal newborn or neon...</td>\n",
       "      <td>1</td>\n",
       "      <td>1.0</td>\n",
       "      <td>Medical</td>\n",
       "      <td>3600</td>\n",
       "      <td>N</td>\n",
       "      <td>N</td>\n",
       "      <td>1251.50</td>\n",
       "      <td>829.70</td>\n",
       "      <td>0.662961</td>\n",
       "      <td>0</td>\n",
       "      <td>1</td>\n",
       "    </tr>\n",
       "    <tr>\n",
       "      <th>3226</th>\n",
       "      <td>Western NY</td>\n",
       "      <td>Cattaraugus</td>\n",
       "      <td>66.0</td>\n",
       "      <td>0 to 17</td>\n",
       "      <td>F</td>\n",
       "      <td>White</td>\n",
       "      <td>Not Span/Hispanic</td>\n",
       "      <td>2</td>\n",
       "      <td>Newborn</td>\n",
       "      <td>Home or Self Care</td>\n",
       "      <td>218</td>\n",
       "      <td>0</td>\n",
       "      <td>Neonate birthwt &gt;2499g, normal newborn or neon...</td>\n",
       "      <td>1</td>\n",
       "      <td>1.0</td>\n",
       "      <td>Medical</td>\n",
       "      <td>2700</td>\n",
       "      <td>N</td>\n",
       "      <td>N</td>\n",
       "      <td>1150.50</td>\n",
       "      <td>788.65</td>\n",
       "      <td>0.685486</td>\n",
       "      <td>1</td>\n",
       "      <td>1</td>\n",
       "    </tr>\n",
       "    <tr>\n",
       "      <th>4209</th>\n",
       "      <td>Western NY</td>\n",
       "      <td>Cattaraugus</td>\n",
       "      <td>66.0</td>\n",
       "      <td>0 to 17</td>\n",
       "      <td>F</td>\n",
       "      <td>White</td>\n",
       "      <td>Not Span/Hispanic</td>\n",
       "      <td>2</td>\n",
       "      <td>Newborn</td>\n",
       "      <td>Home or Self Care</td>\n",
       "      <td>218</td>\n",
       "      <td>0</td>\n",
       "      <td>Neonate birthwt &gt;2499g, normal newborn or neon...</td>\n",
       "      <td>1</td>\n",
       "      <td>1.0</td>\n",
       "      <td>Medical</td>\n",
       "      <td>2700</td>\n",
       "      <td>N</td>\n",
       "      <td>N</td>\n",
       "      <td>1150.50</td>\n",
       "      <td>788.65</td>\n",
       "      <td>0.685486</td>\n",
       "      <td>1</td>\n",
       "      <td>1</td>\n",
       "    </tr>\n",
       "    <tr>\n",
       "      <th>4234</th>\n",
       "      <td>Western NY</td>\n",
       "      <td>Cattaraugus</td>\n",
       "      <td>66.0</td>\n",
       "      <td>0 to 17</td>\n",
       "      <td>F</td>\n",
       "      <td>White</td>\n",
       "      <td>Not Span/Hispanic</td>\n",
       "      <td>2</td>\n",
       "      <td>Newborn</td>\n",
       "      <td>Home or Self Care</td>\n",
       "      <td>218</td>\n",
       "      <td>0</td>\n",
       "      <td>Neonate birthwt &gt;2499g, normal newborn or neon...</td>\n",
       "      <td>1</td>\n",
       "      <td>1.0</td>\n",
       "      <td>Medical</td>\n",
       "      <td>2800</td>\n",
       "      <td>N</td>\n",
       "      <td>N</td>\n",
       "      <td>1150.50</td>\n",
       "      <td>788.65</td>\n",
       "      <td>0.685486</td>\n",
       "      <td>0</td>\n",
       "      <td>1</td>\n",
       "    </tr>\n",
       "    <tr>\n",
       "      <th>...</th>\n",
       "      <td>...</td>\n",
       "      <td>...</td>\n",
       "      <td>...</td>\n",
       "      <td>...</td>\n",
       "      <td>...</td>\n",
       "      <td>...</td>\n",
       "      <td>...</td>\n",
       "      <td>...</td>\n",
       "      <td>...</td>\n",
       "      <td>...</td>\n",
       "      <td>...</td>\n",
       "      <td>...</td>\n",
       "      <td>...</td>\n",
       "      <td>...</td>\n",
       "      <td>...</td>\n",
       "      <td>...</td>\n",
       "      <td>...</td>\n",
       "      <td>...</td>\n",
       "      <td>...</td>\n",
       "      <td>...</td>\n",
       "      <td>...</td>\n",
       "      <td>...</td>\n",
       "      <td>...</td>\n",
       "      <td>...</td>\n",
       "    </tr>\n",
       "    <tr>\n",
       "      <th>1015327</th>\n",
       "      <td>New York City</td>\n",
       "      <td>Bronx</td>\n",
       "      <td>1168.0</td>\n",
       "      <td>0 to 17</td>\n",
       "      <td>F</td>\n",
       "      <td>Other Race</td>\n",
       "      <td>Not Span/Hispanic</td>\n",
       "      <td>2</td>\n",
       "      <td>Newborn</td>\n",
       "      <td>Home or Self Care</td>\n",
       "      <td>218</td>\n",
       "      <td>228</td>\n",
       "      <td>Neonate birthwt &gt;2499g, normal newborn or neon...</td>\n",
       "      <td>1</td>\n",
       "      <td>1.0</td>\n",
       "      <td>Medical</td>\n",
       "      <td>2900</td>\n",
       "      <td>N</td>\n",
       "      <td>N</td>\n",
       "      <td>5955.85</td>\n",
       "      <td>1303.62</td>\n",
       "      <td>0.218881</td>\n",
       "      <td>1</td>\n",
       "      <td>3</td>\n",
       "    </tr>\n",
       "    <tr>\n",
       "      <th>1025529</th>\n",
       "      <td>New York City</td>\n",
       "      <td>Bronx</td>\n",
       "      <td>1169.0</td>\n",
       "      <td>0 to 17</td>\n",
       "      <td>F</td>\n",
       "      <td>Other Race</td>\n",
       "      <td>Spanish/Hispanic</td>\n",
       "      <td>2</td>\n",
       "      <td>Elective</td>\n",
       "      <td>Home or Self Care</td>\n",
       "      <td>83</td>\n",
       "      <td>227</td>\n",
       "      <td>Seizure</td>\n",
       "      <td>2</td>\n",
       "      <td>1.0</td>\n",
       "      <td>Medical</td>\n",
       "      <td>0</td>\n",
       "      <td>N</td>\n",
       "      <td>N</td>\n",
       "      <td>12500.00</td>\n",
       "      <td>2960.11</td>\n",
       "      <td>0.236809</td>\n",
       "      <td>1</td>\n",
       "      <td>3</td>\n",
       "    </tr>\n",
       "    <tr>\n",
       "      <th>1028997</th>\n",
       "      <td>New York City</td>\n",
       "      <td>Bronx</td>\n",
       "      <td>1169.0</td>\n",
       "      <td>0 to 17</td>\n",
       "      <td>F</td>\n",
       "      <td>Other Race</td>\n",
       "      <td>Spanish/Hispanic</td>\n",
       "      <td>2</td>\n",
       "      <td>Elective</td>\n",
       "      <td>Home or Self Care</td>\n",
       "      <td>83</td>\n",
       "      <td>227</td>\n",
       "      <td>Seizure</td>\n",
       "      <td>1</td>\n",
       "      <td>1.0</td>\n",
       "      <td>Medical</td>\n",
       "      <td>0</td>\n",
       "      <td>N</td>\n",
       "      <td>N</td>\n",
       "      <td>12557.00</td>\n",
       "      <td>2963.40</td>\n",
       "      <td>0.235996</td>\n",
       "      <td>1</td>\n",
       "      <td>2</td>\n",
       "    </tr>\n",
       "    <tr>\n",
       "      <th>1035973</th>\n",
       "      <td>New York City</td>\n",
       "      <td>Bronx</td>\n",
       "      <td>1169.0</td>\n",
       "      <td>0 to 17</td>\n",
       "      <td>F</td>\n",
       "      <td>Other Race</td>\n",
       "      <td>Spanish/Hispanic</td>\n",
       "      <td>2</td>\n",
       "      <td>Elective</td>\n",
       "      <td>Home or Self Care</td>\n",
       "      <td>83</td>\n",
       "      <td>227</td>\n",
       "      <td>Seizure</td>\n",
       "      <td>2</td>\n",
       "      <td>1.0</td>\n",
       "      <td>Medical</td>\n",
       "      <td>0</td>\n",
       "      <td>N</td>\n",
       "      <td>N</td>\n",
       "      <td>12500.00</td>\n",
       "      <td>2960.11</td>\n",
       "      <td>0.236809</td>\n",
       "      <td>1</td>\n",
       "      <td>3</td>\n",
       "    </tr>\n",
       "    <tr>\n",
       "      <th>1043713</th>\n",
       "      <td>New York City</td>\n",
       "      <td>Bronx</td>\n",
       "      <td>1169.0</td>\n",
       "      <td>0 to 17</td>\n",
       "      <td>M</td>\n",
       "      <td>Other Race</td>\n",
       "      <td>Spanish/Hispanic</td>\n",
       "      <td>10</td>\n",
       "      <td>Emergency</td>\n",
       "      <td>Home or Self Care</td>\n",
       "      <td>135</td>\n",
       "      <td>0</td>\n",
       "      <td>Other gastroenteritis, nausa &amp; vomiting</td>\n",
       "      <td>3</td>\n",
       "      <td>3.0</td>\n",
       "      <td>Medical</td>\n",
       "      <td>0</td>\n",
       "      <td>N</td>\n",
       "      <td>Y</td>\n",
       "      <td>65223.50</td>\n",
       "      <td>19853.07</td>\n",
       "      <td>0.304385</td>\n",
       "      <td>0</td>\n",
       "      <td>3</td>\n",
       "    </tr>\n",
       "  </tbody>\n",
       "</table>\n",
       "<p>4814 rows × 24 columns</p>\n",
       "</div>"
      ],
      "text/plain": [
       "          Area_Service Hospital County  ...  Result Payment_Typology\n",
       "1125        Western NY        Allegany  ...       1                1\n",
       "3086        Western NY     Cattaraugus  ...       0                1\n",
       "3226        Western NY     Cattaraugus  ...       1                1\n",
       "4209        Western NY     Cattaraugus  ...       1                1\n",
       "4234        Western NY     Cattaraugus  ...       0                1\n",
       "...                ...             ...  ...     ...              ...\n",
       "1015327  New York City           Bronx  ...       1                3\n",
       "1025529  New York City           Bronx  ...       1                3\n",
       "1028997  New York City           Bronx  ...       1                2\n",
       "1035973  New York City           Bronx  ...       1                3\n",
       "1043713  New York City           Bronx  ...       0                3\n",
       "\n",
       "[4814 rows x 24 columns]"
      ]
     },
     "execution_count": 15,
     "metadata": {
      "tags": []
     },
     "output_type": "execute_result"
    }
   ],
   "source": [
    "#Print the duplicated rows\n",
    "data1[data1.duplicated()]"
   ]
  },
  {
   "cell_type": "code",
   "execution_count": null,
   "metadata": {
    "colab": {
     "base_uri": "https://localhost:8080/"
    },
    "id": "dCn7UD0th6x9",
    "outputId": "8f5b3904-4f73-4f2a-e118-fb4e8aa36ffc"
   },
   "outputs": [
    {
     "data": {
      "text/plain": [
       "(4814, 24)"
      ]
     },
     "execution_count": 16,
     "metadata": {
      "tags": []
     },
     "output_type": "execute_result"
    }
   ],
   "source": [
    "#Count of duplicated rows\n",
    "data[data.duplicated()].shape"
   ]
  },
  {
   "cell_type": "code",
   "execution_count": null,
   "metadata": {
    "id": "ERZ7DltJiBmP"
   },
   "outputs": [],
   "source": [
    "data_cleaned=data1.drop_duplicates()"
   ]
  },
  {
   "cell_type": "code",
   "execution_count": null,
   "metadata": {
    "colab": {
     "base_uri": "https://localhost:8080/"
    },
    "id": "FivyqJhDiBjB",
    "outputId": "74e41c3c-fb82-4b4b-a985-6fb7f8a57062"
   },
   "outputs": [
    {
     "data": {
      "text/plain": [
       "(1043761, 24)"
      ]
     },
     "execution_count": 18,
     "metadata": {
      "tags": []
     },
     "output_type": "execute_result"
    }
   ],
   "source": [
    "data_cleaned.shape"
   ]
  },
  {
   "cell_type": "markdown",
   "metadata": {
    "id": "6XgBJv-5CpH3"
   },
   "source": [
    "# Removing the outliers"
   ]
  },
  {
   "cell_type": "code",
   "execution_count": null,
   "metadata": {
    "colab": {
     "base_uri": "https://localhost:8080/"
    },
    "id": "XppqBymfiBf0",
    "outputId": "9e4e1195-709e-42c7-906c-372ea34adb53"
   },
   "outputs": [
    {
     "name": "stdout",
     "output_type": "stream",
     "text": [
      "Hospital Id                                764.000000\n",
      "ccs_diagnosis_code                         110.000000\n",
      "ccs_procedure_code                         172.000000\n",
      "Code_illness                                 2.000000\n",
      "Mortality risk                               2.000000\n",
      "Weight_baby                                  0.000000\n",
      "Tot_charg                                21768.750000\n",
      "Tot_cost                                  8115.200000\n",
      "ratio_of_total_costs_to_total_charges        0.205405\n",
      "Result                                       1.000000\n",
      "Payment_Typology                             2.000000\n",
      "dtype: float64\n"
     ]
    }
   ],
   "source": [
    "Q1 = data_cleaned.quantile(0.25)\n",
    "Q3 = data_cleaned.quantile(0.75)\n",
    "IQR = Q3 - Q1\n",
    "print(IQR)"
   ]
  },
  {
   "cell_type": "code",
   "execution_count": null,
   "metadata": {
    "id": "gf4oOe0ciav1"
   },
   "outputs": [],
   "source": [
    "data_cleaned = data_cleaned[~((data_cleaned < (Q1 - 1.5 * IQR)) |(data_cleaned > (Q3 + 1.5 * IQR))).any(axis=1)]"
   ]
  },
  {
   "cell_type": "markdown",
   "metadata": {
    "id": "R-TurxIMC-gj"
   },
   "source": [
    "# Let us check count plots for categorical to find which category is having more frequent values"
   ]
  },
  {
   "cell_type": "code",
   "execution_count": null,
   "metadata": {
    "colab": {
     "base_uri": "https://localhost:8080/"
    },
    "id": "eO-SGOUXDENr",
    "outputId": "ee24072f-5a27-4c19-9fae-44e1e34d1952"
   },
   "outputs": [
    {
     "data": {
      "text/plain": [
       "Emergency        445460\n",
       "Elective         172622\n",
       "Urgent            80515\n",
       "Trauma             1660\n",
       "Not Available       797\n",
       "Newborn              58\n",
       "Name: Admission_type, dtype: int64"
      ]
     },
     "execution_count": 21,
     "metadata": {
      "tags": []
     },
     "output_type": "execute_result"
    }
   ],
   "source": [
    "data_cleaned['Admission_type'].value_counts()"
   ]
  },
  {
   "cell_type": "code",
   "execution_count": null,
   "metadata": {
    "colab": {
     "base_uri": "https://localhost:8080/",
     "height": 410
    },
    "id": "cLKqS6uVDEFG",
    "outputId": "9b2563ab-499a-499d-c2c4-8ac96bf41e75"
   },
   "outputs": [
    {
     "name": "stderr",
     "output_type": "stream",
     "text": [
      "/usr/local/lib/python3.7/dist-packages/seaborn/_decorators.py:43: FutureWarning: Pass the following variable as a keyword arg: x. From version 0.12, the only valid positional argument will be `data`, and passing other arguments without an explicit keyword will result in an error or misinterpretation.\n",
      "  FutureWarning\n"
     ]
    },
    {
     "data": {
      "text/plain": [
       "<matplotlib.axes._subplots.AxesSubplot at 0x7f4d156cfd90>"
      ]
     },
     "execution_count": 22,
     "metadata": {
      "tags": []
     },
     "output_type": "execute_result"
    },
    {
     "data": {
      "image/png": "[encoded data removed]",
      "text/plain": [
       "<Figure size 720x360 with 1 Axes>"
      ]
     },
     "metadata": {
      "needs_background": "light",
      "tags": []
     },
     "output_type": "display_data"
    }
   ],
   "source": [
    "plt.figure(figsize=(10,5))\n",
    "sns.countplot(data_cleaned['Area_Service'])"
   ]
  },
  {
   "cell_type": "code",
   "execution_count": null,
   "metadata": {
    "colab": {
     "base_uri": "https://localhost:8080/"
    },
    "id": "hEOOeDUgiar4",
    "outputId": "1fdf19d6-0a9e-4588-cf72-395087c4329a"
   },
   "outputs": [
    {
     "data": {
      "text/plain": [
       "57"
      ]
     },
     "execution_count": 23,
     "metadata": {
      "tags": []
     },
     "output_type": "execute_result"
    }
   ],
   "source": [
    "len(data_cleaned['Days_spend_hsptl'].unique())"
   ]
  },
  {
   "cell_type": "code",
   "execution_count": null,
   "metadata": {
    "colab": {
     "base_uri": "https://localhost:8080/"
    },
    "id": "I2wZCBGqiaiN",
    "outputId": "a0089c7a-7675-44d6-cfbc-7404d7095837"
   },
   "outputs": [
    {
     "data": {
      "text/plain": [
       "array(['3', '1', '2', '14', '5', '4', '9', '8', '10', '6', '12', '7',\n",
       "       '11', '13', '16', '15', '18', '23', '21', '22', '19', '24', '20',\n",
       "       '17', '26', '58', '30', '27', '34', '70', '31', '25', '29', '32',\n",
       "       '28', '33', '36', '37', '35', '120 +', '48', '60', '97', '50',\n",
       "       '66', '64', '53', '56', '38', '41', '40', '46', '51', '44', '43',\n",
       "       '39', '42'], dtype=object)"
      ]
     },
     "execution_count": 24,
     "metadata": {
      "tags": []
     },
     "output_type": "execute_result"
    }
   ],
   "source": [
    "data_cleaned['Days_spend_hsptl'].unique()"
   ]
  },
  {
   "cell_type": "code",
   "execution_count": null,
   "metadata": {
    "id": "tbqQKg7mikhH"
   },
   "outputs": [],
   "source": [
    "data_cleaned['Days_spend_hsptl'].replace(to_replace='120 +',value='121',inplace=True)"
   ]
  },
  {
   "cell_type": "code",
   "execution_count": null,
   "metadata": {
    "id": "AxL66L5qikeR"
   },
   "outputs": [],
   "source": [
    "data_cleaned['Days_spend_hsptl']=data_cleaned['Days_spend_hsptl'].astype('int64')"
   ]
  },
  {
   "cell_type": "code",
   "execution_count": null,
   "metadata": {
    "colab": {
     "base_uri": "https://localhost:8080/"
    },
    "id": "MHYmwEs3ikbR",
    "outputId": "d77bcf25-54ac-4bf9-d378-8caa61cfedb5"
   },
   "outputs": [
    {
     "data": {
      "text/plain": [
       "array([  3,   1,   2,  14,   5,   4,   9,   8,  10,   6,  12,   7,  11,\n",
       "        13,  16,  15,  18,  23,  21,  22,  19,  24,  20,  17,  26,  58,\n",
       "        30,  27,  34,  70,  31,  25,  29,  32,  28,  33,  36,  37,  35,\n",
       "       121,  48,  60,  97,  50,  66,  64,  53,  56,  38,  41,  40,  46,\n",
       "        51,  44,  43,  39,  42])"
      ]
     },
     "execution_count": 27,
     "metadata": {
      "tags": []
     },
     "output_type": "execute_result"
    }
   ],
   "source": [
    "data_cleaned['Days_spend_hsptl'].unique()"
   ]
  },
  {
   "cell_type": "code",
   "execution_count": null,
   "metadata": {
    "colab": {
     "base_uri": "https://localhost:8080/",
     "height": 368
    },
    "id": "PJ_xT2_lDLfc",
    "outputId": "0587a137-d804-49d3-95c5-2e394b19d3b0"
   },
   "outputs": [
    {
     "data": {
      "text/plain": [
       "(array([9.54404e+05, 1.72400e+03, 9.57200e+03, 5.41370e+04, 2.75090e+04,\n",
       "        1.17500e+03, 4.40000e+01, 5.00000e+00, 2.00000e+00, 3.00000e+00]),\n",
       " array([   0.,  900., 1800., 2700., 3600., 4500., 5400., 6300., 7200.,\n",
       "        8100., 9000.]),\n",
       " <a list of 10 Patch objects>)"
      ]
     },
     "execution_count": 28,
     "metadata": {
      "tags": []
     },
     "output_type": "execute_result"
    },
    {
     "data": {
      "image/png": "[encoded data removed]",
      "text/plain": [
       "<Figure size 432x288 with 1 Axes>"
      ]
     },
     "metadata": {
      "needs_background": "light",
      "tags": []
     },
     "output_type": "display_data"
    }
   ],
   "source": [
    "plt.hist(data['Weight_baby'])"
   ]
  },
  {
   "cell_type": "code",
   "execution_count": null,
   "metadata": {
    "colab": {
     "base_uri": "https://localhost:8080/",
     "height": 284
    },
    "id": "OytEiguZDLbn",
    "outputId": "83589285-1bbe-43f6-a192-65291c76e407"
   },
   "outputs": [
    {
     "data": {
      "text/plain": [
       "<matplotlib.axes._subplots.AxesSubplot at 0x7f4d12c97f90>"
      ]
     },
     "execution_count": 29,
     "metadata": {
      "tags": []
     },
     "output_type": "execute_result"
    },
    {
     "data": {
      "image/png": "[encoded data removed]",
      "text/plain": [
       "<Figure size 432x288 with 1 Axes>"
      ]
     },
     "metadata": {
      "needs_background": "light",
      "tags": []
     },
     "output_type": "display_data"
    }
   ],
   "source": [
    "data_cleaned.boxplot(column='ccs_procedure_code')"
   ]
  },
  {
   "cell_type": "code",
   "execution_count": null,
   "metadata": {
    "colab": {
     "base_uri": "https://localhost:8080/",
     "height": 358
    },
    "id": "ruwapYwnDLX2",
    "outputId": "7dbd7ee0-8db1-4899-d4c0-81fe6c3f7ab9"
   },
   "outputs": [
    {
     "name": "stderr",
     "output_type": "stream",
     "text": [
      "/usr/local/lib/python3.7/dist-packages/seaborn/distributions.py:2557: FutureWarning: `distplot` is a deprecated function and will be removed in a future version. Please adapt your code to use either `displot` (a figure-level function with similar flexibility) or `histplot` (an axes-level function for histograms).\n",
      "  warnings.warn(msg, FutureWarning)\n"
     ]
    },
    {
     "data": {
      "text/plain": [
       "<matplotlib.axes._subplots.AxesSubplot at 0x7f4d1460f550>"
      ]
     },
     "execution_count": 32,
     "metadata": {
      "tags": []
     },
     "output_type": "execute_result"
    },
    {
     "data": {
      "image/png": "[encoded data removed]",
      "text/plain": [
       "<Figure size 432x288 with 1 Axes>"
      ]
     },
     "metadata": {
      "needs_background": "light",
      "tags": []
     },
     "output_type": "display_data"
    }
   ],
   "source": [
    "sns.distplot(data_cleaned.ccs_procedure_code)"
   ]
  },
  {
   "cell_type": "code",
   "execution_count": null,
   "metadata": {
    "colab": {
     "base_uri": "https://localhost:8080/",
     "height": 284
    },
    "id": "GZxuc3cmDULA",
    "outputId": "195ecac6-3ef5-48df-be63-143951fdef71"
   },
   "outputs": [
    {
     "data": {
      "text/plain": [
       "<matplotlib.axes._subplots.AxesSubplot at 0x7f4d10a8ce50>"
      ]
     },
     "execution_count": 30,
     "metadata": {
      "tags": []
     },
     "output_type": "execute_result"
    },
    {
     "data": {
      "image/png": "[encoded data removed]",
      "text/plain": [
       "<Figure size 432x288 with 1 Axes>"
      ]
     },
     "metadata": {
      "needs_background": "light",
      "tags": []
     },
     "output_type": "display_data"
    }
   ],
   "source": [
    "data_cleaned.boxplot(column='Tot_charg')"
   ]
  },
  {
   "cell_type": "code",
   "execution_count": null,
   "metadata": {
    "colab": {
     "base_uri": "https://localhost:8080/",
     "height": 284
    },
    "id": "WL4ITuARDXVE",
    "outputId": "bdb0ce16-5165-4947-8827-390d4b8d031a"
   },
   "outputs": [
    {
     "data": {
      "text/plain": [
       "<matplotlib.axes._subplots.AxesSubplot at 0x7f4d146e1290>"
      ]
     },
     "execution_count": 31,
     "metadata": {
      "tags": []
     },
     "output_type": "execute_result"
    },
    {
     "data": {
      "image/png": "[encoded data removed]",
      "text/plain": [
       "<Figure size 432x288 with 1 Axes>"
      ]
     },
     "metadata": {
      "needs_background": "light",
      "tags": []
     },
     "output_type": "display_data"
    }
   ],
   "source": [
    "data_cleaned.boxplot(column='Tot_cost')"
   ]
  },
  {
   "cell_type": "markdown",
   "metadata": {
    "id": "26UqFXT4DdnC"
   },
   "source": [
    "# converting coloumns with string datatypes into categorical data using label encoder`"
   ]
  },
  {
   "cell_type": "code",
   "execution_count": null,
   "metadata": {
    "id": "eR_aHq5CikSu"
   },
   "outputs": [],
   "source": [
    "labelencoder = LabelEncoder()\n",
    "data_cleaned.iloc[:,0] = labelencoder.fit_transform(data_cleaned.iloc[:,0])\n",
    "data_cleaned.iloc[:,1] = labelencoder.fit_transform(data_cleaned.iloc[:,1])\n",
    "data_cleaned.iloc[:,3] = labelencoder.fit_transform(data_cleaned.iloc[:,3])\n",
    "data_cleaned.iloc[:,4] = labelencoder.fit_transform(data_cleaned.iloc[:,4])\n",
    "data_cleaned.iloc[:,5] = labelencoder.fit_transform(data_cleaned.iloc[:,5])\n",
    "data_cleaned.iloc[:,6] = labelencoder.fit_transform(data_cleaned.iloc[:,6])\n",
    "data_cleaned.iloc[:,8] = labelencoder.fit_transform(data_cleaned.iloc[:,8])\n",
    "data_cleaned.iloc[:,9] = labelencoder.fit_transform(data_cleaned.iloc[:,9])\n",
    "data_cleaned.iloc[:,12] = labelencoder.fit_transform(data_cleaned.iloc[:,12])\n",
    "data_cleaned.iloc[:,15] = labelencoder.fit_transform(data_cleaned.iloc[:,15])\n",
    "data_cleaned.iloc[:,17] = labelencoder.fit_transform(data_cleaned.iloc[:,17])\n",
    "data_cleaned.iloc[:,18] = labelencoder.fit_transform(data_cleaned.iloc[:,18])"
   ]
  },
  {
   "cell_type": "code",
   "execution_count": null,
   "metadata": {
    "id": "s9-HumQnikPv"
   },
   "outputs": [],
   "source": [
    "X=data_cleaned.drop(['Result'],axis=1)\n",
    "Y= data_cleaned.Result "
   ]
  },
  {
   "cell_type": "markdown",
   "metadata": {
    "id": "lRgCj0HDDmc-"
   },
   "source": [
    "# Feature Importance with Extra Trees Classifier\n"
   ]
  },
  {
   "cell_type": "code",
   "execution_count": null,
   "metadata": {
    "colab": {
     "base_uri": "https://localhost:8080/"
    },
    "id": "2NLCYfYMDlkw",
    "outputId": "769bad06-c789-406a-d9ab-133e1a59bd5d"
   },
   "outputs": [
    {
     "name": "stdout",
     "output_type": "stream",
     "text": [
      "[1.44798407e-02 1.60687421e-02 3.89480439e-02 3.17072576e-02\n",
      " 1.72932797e-02 1.84256832e-02 1.00117137e-02 4.21357094e-02\n",
      " 1.41305078e-02 2.81059298e-02 6.66584276e-02 4.71053911e-02\n",
      " 5.38601907e-02 2.85503425e-02 1.62345335e-02 3.64413513e-03\n",
      " 0.00000000e+00 1.65158649e-05 7.75590560e-03 1.65808127e-01\n",
      " 1.68127672e-01 1.84693587e-01 2.62384636e-02]\n"
     ]
    }
   ],
   "source": [
    "from pandas import read_csv\n",
    "from sklearn.tree import  DecisionTreeClassifier\n",
    "# feature extraction\n",
    "model = DecisionTreeClassifier()\n",
    "model.fit(X, Y)\n",
    "print(model.feature_importances_)"
   ]
  },
  {
   "cell_type": "code",
   "execution_count": null,
   "metadata": {
    "colab": {
     "base_uri": "https://localhost:8080/",
     "height": 265
    },
    "id": "KYYVB18aDvIK",
    "outputId": "f812bfee-b791-4b06-ce81-2863a8665620"
   },
   "outputs": [
    {
     "data": {
      "image/png": "[encoded data removed]",
      "text/plain": [
       "<Figure size 432x288 with 1 Axes>"
      ]
     },
     "metadata": {
      "needs_background": "light",
      "tags": []
     },
     "output_type": "display_data"
    }
   ],
   "source": [
    "#plot graph of feature importances for better visualization\n",
    "feat_importances = pd.Series(model.feature_importances_, index=X.columns)\n",
    "feat_importances.nlargest(24).plot(kind='barh')\n",
    "plt.show()"
   ]
  },
  {
   "cell_type": "markdown",
   "metadata": {
    "id": "dghNoJYBD3LL"
   },
   "source": [
    "# Dropping the coloumns which don't have much impact on the target variable\n"
   ]
  },
  {
   "cell_type": "code",
   "execution_count": null,
   "metadata": {
    "id": "LAtUKIVqi-ip"
   },
   "outputs": [],
   "source": [
    "data_cleaned.drop(['Abortion','Surg_Description','Emergency dept_yes/No','ethnicity','Admission_type','Area_Service','Weight_baby','Hospital County','Gender','Cultural_group','Payment_Typology','Mortality risk'],inplace=True,axis=1)"
   ]
  },
  {
   "cell_type": "code",
   "execution_count": null,
   "metadata": {
    "id": "UrFJBJNrjEZB"
   },
   "outputs": [],
   "source": [
    "X1 = data_cleaned.drop(['Result'],axis=1)\n",
    "Y= data_cleaned.Result "
   ]
  },
  {
   "cell_type": "markdown",
   "metadata": {
    "id": "BV3eW0e5EBXL"
   },
   "source": [
    "#Smote Over Sampling`"
   ]
  },
  {
   "cell_type": "code",
   "execution_count": null,
   "metadata": {
    "colab": {
     "base_uri": "https://localhost:8080/"
    },
    "id": "7BmXSej7kEbK",
    "outputId": "3995e97d-d1ef-49a5-f0a1-97cee2805e41"
   },
   "outputs": [
    {
     "name": "stderr",
     "output_type": "stream",
     "text": [
      "/usr/local/lib/python3.7/dist-packages/sklearn/externals/six.py:31: FutureWarning: The module is deprecated in version 0.21 and will be removed in version 0.23 since we've dropped support for Python 2.7. Please rely on the official version of six (https://pypi.org/project/six/).\n",
      "  \"(https://pypi.org/project/six/).\", FutureWarning)\n",
      "/usr/local/lib/python3.7/dist-packages/sklearn/utils/deprecation.py:144: FutureWarning: The sklearn.neighbors.base module is  deprecated in version 0.22 and will be removed in version 0.24. The corresponding classes / functions should instead be imported from sklearn.neighbors. Anything that cannot be imported from sklearn.neighbors is now part of the private API.\n",
      "  warnings.warn(message, FutureWarning)\n",
      "/usr/local/lib/python3.7/dist-packages/sklearn/utils/deprecation.py:87: FutureWarning: Function safe_indexing is deprecated; safe_indexing is deprecated in version 0.22 and will be removed in version 0.24.\n",
      "  warnings.warn(msg, category=FutureWarning)\n",
      "/usr/local/lib/python3.7/dist-packages/sklearn/utils/deprecation.py:87: FutureWarning: Function safe_indexing is deprecated; safe_indexing is deprecated in version 0.22 and will be removed in version 0.24.\n",
      "  warnings.warn(msg, category=FutureWarning)\n"
     ]
    }
   ],
   "source": [
    "from imblearn.combine import SMOTETomek\n",
    "smot = SMOTETomek(ratio=\"auto\",random_state=42)\n",
    "x_smot, y_smot = smot.fit_sample(X1,Y)"
   ]
  },
  {
   "cell_type": "code",
   "execution_count": null,
   "metadata": {
    "colab": {
     "base_uri": "https://localhost:8080/"
    },
    "id": "GEIZf6A5kEY2",
    "outputId": "2d4d0e76-2be8-4705-b426-2a4e719e2a3c"
   },
   "outputs": [
    {
     "name": "stdout",
     "output_type": "stream",
     "text": [
      "Counter({1: 525966, 0: 175146})\n",
      "Counter({1: 500819, 0: 500819})\n"
     ]
    }
   ],
   "source": [
    "from collections import Counter\n",
    "print(Counter(Y))\n",
    "print(Counter(y_smot))"
   ]
  },
  {
   "cell_type": "code",
   "execution_count": null,
   "metadata": {
    "id": "R5c3LFTokEWO"
   },
   "outputs": [],
   "source": [
    "# splitting the data into training and testing dataset\n",
    "from sklearn.model_selection import train_test_split\n",
    "x_train,x_test,y_train,y_test=train_test_split(x_smot,y_smot,test_size=0.3) "
   ]
  },
  {
   "cell_type": "markdown",
   "metadata": {
    "id": "mqb5NcHnEHza"
   },
   "source": [
    "#Importing the all ML classifiers"
   ]
  },
  {
   "cell_type": "code",
   "execution_count": null,
   "metadata": {
    "id": "rJVPxEUElJte"
   },
   "outputs": [],
   "source": [
    "\n",
    "from sklearn.linear_model import LogisticRegression\n",
    "from sklearn.neighbors import KNeighborsClassifier\n",
    "from sklearn.svm import SVC\n",
    "from sklearn.tree import DecisionTreeClassifier\n",
    "from sklearn.ensemble import BaggingClassifier\n",
    "from sklearn.ensemble import AdaBoostClassifier\n",
    "from sklearn.ensemble import RandomForestClassifier\n",
    "from sklearn.metrics import classification_report\n",
    "from sklearn.metrics import roc_auc_score,roc_curve\n",
    "from sklearn.model_selection import StratifiedKFold\n",
    "from sklearn.model_selection import GridSearchCV\n",
    "from scipy.stats import randint\n",
    "from xgboost import XGBClassifier"
   ]
  },
  {
   "cell_type": "markdown",
   "metadata": {
    "id": "vFIr-B8ojz-p"
   },
   "source": [
    "#Model Building using decision tree"
   ]
  },
  {
   "cell_type": "code",
   "execution_count": null,
   "metadata": {
    "colab": {
     "base_uri": "https://localhost:8080/"
    },
    "id": "ECcGEgMTkEN-",
    "outputId": "e5413fd0-6b52-478e-c87e-1a976c2ffe09"
   },
   "outputs": [
    {
     "name": "stderr",
     "output_type": "stream",
     "text": [
      "/usr/local/lib/python3.7/dist-packages/sklearn/model_selection/_split.py:296: FutureWarning: Setting a random_state has no effect since shuffle is False. This will raise an error in 0.24. You should leave random_state to its default (None), or set shuffle=True.\n",
      "  FutureWarning\n"
     ]
    }
   ],
   "source": [
    "clf1 = DecisionTreeClassifier()\n",
    "params1 = {'max_depth': range(6,11),\n",
    "          'max_features': range(6,11),\n",
    "          'criterion': ['gini','entropy']}\n",
    "cv = StratifiedKFold(n_splits=3,random_state=42)  "
   ]
  },
  {
   "cell_type": "code",
   "execution_count": null,
   "metadata": {
    "colab": {
     "base_uri": "https://localhost:8080/"
    },
    "id": "XlUmXbjHlDxy",
    "outputId": "e91b9fb1-9191-4b77-82fa-004cbb736b31"
   },
   "outputs": [
    {
     "data": {
      "text/plain": [
       "GridSearchCV(cv=StratifiedKFold(n_splits=3, random_state=42, shuffle=False),\n",
       "             error_score=0,\n",
       "             estimator=DecisionTreeClassifier(ccp_alpha=0.0, class_weight=None,\n",
       "                                              criterion='gini', max_depth=None,\n",
       "                                              max_features=None,\n",
       "                                              max_leaf_nodes=None,\n",
       "                                              min_impurity_decrease=0.0,\n",
       "                                              min_impurity_split=None,\n",
       "                                              min_samples_leaf=1,\n",
       "                                              min_samples_split=2,\n",
       "                                              min_weight_fraction_leaf=0.0,\n",
       "                                              presort='deprecated',\n",
       "                                              random_state=None,\n",
       "                                              splitter='best'),\n",
       "             iid='deprecated', n_jobs=-1,\n",
       "             param_grid={'criterion': ['gini', 'entropy'],\n",
       "                         'max_depth': range(6, 11),\n",
       "                         'max_features': range(6, 11)},\n",
       "             pre_dispatch='2*n_jobs', refit=True, return_train_score=False,\n",
       "             scoring='accuracy', verbose=0)"
      ]
     },
     "execution_count": 68,
     "metadata": {
      "tags": []
     },
     "output_type": "execute_result"
    }
   ],
   "source": [
    "grid = GridSearchCV(clf1,params1,cv=cv,n_jobs=-1,scoring='accuracy',error_score=0)\n",
    "grid.fit(x_train,y_train)"
   ]
  },
  {
   "cell_type": "code",
   "execution_count": null,
   "metadata": {
    "colab": {
     "base_uri": "https://localhost:8080/"
    },
    "id": "PLOwrtjJlDkB",
    "outputId": "71b06695-a809-4df3-a0b6-d61c966b8dab"
   },
   "outputs": [
    {
     "name": "stdout",
     "output_type": "stream",
     "text": [
      "Best: 0.804912 using {'criterion': 'gini', 'max_depth': 10, 'max_features': 9}\n"
     ]
    }
   ],
   "source": [
    "print(\"Best: %f using %s\" % (grid.best_score_,grid.best_params_))"
   ]
  },
  {
   "cell_type": "markdown",
   "metadata": {
    "id": "ADj2UM8JkD7x"
   },
   "source": [
    "###Model building using best Hyperparameters\n",
    "\n"
   ]
  },
  {
   "cell_type": "code",
   "execution_count": null,
   "metadata": {
    "colab": {
     "base_uri": "https://localhost:8080/"
    },
    "id": "faIEBNDanRut",
    "outputId": "876f2ea5-d539-4c16-976e-7b48f2c0292c"
   },
   "outputs": [
    {
     "data": {
      "text/plain": [
       "DecisionTreeClassifier(ccp_alpha=0.0, class_weight=None, criterion='gini',\n",
       "                       max_depth=10, max_features=9, max_leaf_nodes=None,\n",
       "                       min_impurity_decrease=0.0, min_impurity_split=None,\n",
       "                       min_samples_leaf=1, min_samples_split=2,\n",
       "                       min_weight_fraction_leaf=0.0, presort='deprecated',\n",
       "                       random_state=None, splitter='best')"
      ]
     },
     "execution_count": 136,
     "metadata": {
      "tags": []
     },
     "output_type": "execute_result"
    }
   ],
   "source": [
    "model1 = DecisionTreeClassifier(criterion='gini',max_depth=10,max_features=9)\n",
    "model1.fit(x_train,y_train)"
   ]
  },
  {
   "cell_type": "code",
   "execution_count": null,
   "metadata": {
    "colab": {
     "base_uri": "https://localhost:8080/"
    },
    "id": "XB1gSxZ4nq8c",
    "outputId": "28b3262d-40f1-48c7-ea61-409f2e9a0aa6"
   },
   "outputs": [
    {
     "data": {
      "text/plain": [
       "array([1, 1, 1, ..., 1, 1, 1])"
      ]
     },
     "execution_count": 138,
     "metadata": {
      "tags": []
     },
     "output_type": "execute_result"
    }
   ],
   "source": [
    "y_pred1 = model1.predict(x_test)\n",
    "y_pred1"
   ]
  },
  {
   "cell_type": "code",
   "execution_count": null,
   "metadata": {
    "colab": {
     "base_uri": "https://localhost:8080/",
     "height": 181
    },
    "id": "w4eHhZMHn1b8",
    "outputId": "8cd50083-e87f-4c25-da3a-3ed30f68c281"
   },
   "outputs": [
    {
     "name": "stdout",
     "output_type": "stream",
     "text": [
      "[[ 92520  57870]\n",
      " [  1016 149086]]\n"
     ]
    },
    {
     "data": {
      "text/html": [
       "<div>\n",
       "<style scoped>\n",
       "    .dataframe tbody tr th:only-of-type {\n",
       "        vertical-align: middle;\n",
       "    }\n",
       "\n",
       "    .dataframe tbody tr th {\n",
       "        vertical-align: top;\n",
       "    }\n",
       "\n",
       "    .dataframe thead th {\n",
       "        text-align: right;\n",
       "    }\n",
       "</style>\n",
       "<table border=\"1\" class=\"dataframe\">\n",
       "  <thead>\n",
       "    <tr style=\"text-align: right;\">\n",
       "      <th>col_0</th>\n",
       "      <th>0</th>\n",
       "      <th>1</th>\n",
       "    </tr>\n",
       "    <tr>\n",
       "      <th>row_0</th>\n",
       "      <th></th>\n",
       "      <th></th>\n",
       "    </tr>\n",
       "  </thead>\n",
       "  <tbody>\n",
       "    <tr>\n",
       "      <th>0</th>\n",
       "      <td>92520</td>\n",
       "      <td>57870</td>\n",
       "    </tr>\n",
       "    <tr>\n",
       "      <th>1</th>\n",
       "      <td>1016</td>\n",
       "      <td>149086</td>\n",
       "    </tr>\n",
       "  </tbody>\n",
       "</table>\n",
       "</div>"
      ],
      "text/plain": [
       "col_0      0       1\n",
       "row_0               \n",
       "0      92520   57870\n",
       "1       1016  149086"
      ]
     },
     "execution_count": 139,
     "metadata": {
      "tags": []
     },
     "output_type": "execute_result"
    }
   ],
   "source": [
    "from sklearn.metrics import accuracy_score ,classification_report,confusion_matrix\n",
    "print(confusion_matrix(y_test,y_pred1))\n",
    "pd.crosstab(y_test,y_pred)"
   ]
  },
  {
   "cell_type": "code",
   "execution_count": null,
   "metadata": {
    "colab": {
     "base_uri": "https://localhost:8080/"
    },
    "id": "jatZonv1n8Iu",
    "outputId": "c07d9cbe-c95d-42a9-85a6-ee16240482aa"
   },
   "outputs": [
    {
     "data": {
      "text/plain": [
       "80.54"
      ]
     },
     "execution_count": 140,
     "metadata": {
      "tags": []
     },
     "output_type": "execute_result"
    }
   ],
   "source": [
    "train=round(model1.score(x_train,y_train) * 100, 2)\n",
    "train"
   ]
  },
  {
   "cell_type": "code",
   "execution_count": null,
   "metadata": {
    "colab": {
     "base_uri": "https://localhost:8080/"
    },
    "id": "gZSubfNMoEEb",
    "outputId": "f7a85947-f6e8-4e0a-fff5-f3f1cfd8aa49"
   },
   "outputs": [
    {
     "data": {
      "text/plain": [
       "80.4"
      ]
     },
     "execution_count": 142,
     "metadata": {
      "tags": []
     },
     "output_type": "execute_result"
    }
   ],
   "source": [
    "test_acc=round(accuracy_score(y_test,y_pred1)*100,2)\n",
    "test_acc"
   ]
  },
  {
   "cell_type": "markdown",
   "metadata": {
    "id": "v5q2yFywkHoE"
   },
   "source": [
    "**XGBoost**"
   ]
  },
  {
   "cell_type": "code",
   "execution_count": null,
   "metadata": {
    "id": "uE4dSXJboiNp"
   },
   "outputs": [],
   "source": [
    "clf2 = XGBClassifier()\n",
    "n_estimators = [10,20,30]\n",
    "learning_rate = [0.1,0.2]\n",
    "subsample = [0.9,1.0,1.1]\n",
    "max_depth = [7,9,11,13]"
   ]
  },
  {
   "cell_type": "code",
   "execution_count": null,
   "metadata": {
    "colab": {
     "base_uri": "https://localhost:8080/"
    },
    "id": "OX5Ygsc9oh68",
    "outputId": "ca05e825-0e10-4728-aeea-e3bc7d13ff05"
   },
   "outputs": [
    {
     "name": "stderr",
     "output_type": "stream",
     "text": [
      "/usr/local/lib/python3.7/dist-packages/sklearn/model_selection/_split.py:296: FutureWarning: Setting a random_state has no effect since shuffle is False. This will raise an error in 0.24. You should leave random_state to its default (None), or set shuffle=True.\n",
      "  FutureWarning\n"
     ]
    }
   ],
   "source": [
    "params2 = dict(n_estimators=n_estimators,learning_rate=learning_rate,subsample=subsample,max_depth=max_depth)\n",
    "cv = StratifiedKFold(n_splits=3,random_state=42)"
   ]
  },
  {
   "cell_type": "code",
   "execution_count": null,
   "metadata": {
    "colab": {
     "base_uri": "https://localhost:8080/"
    },
    "id": "90AW-RxHpIfP",
    "outputId": "19d19afd-3d16-43ad-e755-8eec1ef84a33"
   },
   "outputs": [
    {
     "data": {
      "text/plain": [
       "GridSearchCV(cv=StratifiedKFold(n_splits=3, random_state=42, shuffle=False),\n",
       "             error_score=0,\n",
       "             estimator=XGBClassifier(base_score=0.5, booster='gbtree',\n",
       "                                     colsample_bylevel=1, colsample_bynode=1,\n",
       "                                     colsample_bytree=1, gamma=0,\n",
       "                                     learning_rate=0.1, max_delta_step=0,\n",
       "                                     max_depth=3, min_child_weight=1,\n",
       "                                     missing=None, n_estimators=100, n_jobs=1,\n",
       "                                     nthread=None, objective='binary:logistic',\n",
       "                                     random_state=0, reg_alpha=0, reg_lambda=1,\n",
       "                                     scale_pos_weight=1, seed=None, silent=None,\n",
       "                                     subsample=1, verbosity=1),\n",
       "             iid='deprecated', n_jobs=-1,\n",
       "             param_grid={'learning_rate': [0.1, 0.2],\n",
       "                         'max_depth': [7, 9, 11, 13],\n",
       "                         'n_estimators': [10, 20, 30],\n",
       "                         'subsample': [0.9, 1.0, 1.1]},\n",
       "             pre_dispatch='2*n_jobs', refit=True, return_train_score=False,\n",
       "             scoring='accuracy', verbose=0)"
      ]
     },
     "execution_count": 81,
     "metadata": {
      "tags": []
     },
     "output_type": "execute_result"
    }
   ],
   "source": [
    "grid = GridSearchCV(clf2,params2,scoring='accuracy',n_jobs=-1,cv=cv,error_score=0)\n",
    "grid.fit(x_train,y_train)"
   ]
  },
  {
   "cell_type": "code",
   "execution_count": null,
   "metadata": {
    "colab": {
     "base_uri": "https://localhost:8080/"
    },
    "id": "JZWDgW3XpIWk",
    "outputId": "bfbde96e-ea9d-44a8-81cb-7e9dcb5c0e61"
   },
   "outputs": [
    {
     "name": "stdout",
     "output_type": "stream",
     "text": [
      "Best: 0.829207 using {'learning_rate': 0.2, 'max_depth': 13, 'n_estimators': 30, 'subsample': 0.9}\n"
     ]
    }
   ],
   "source": [
    "print(\"Best: %f using %s\" % (grid.best_score_,grid.best_params_))"
   ]
  },
  {
   "cell_type": "markdown",
   "metadata": {
    "id": "FD64hReBkUJH"
   },
   "source": [
    "###Model building using best Hyperparameters\n"
   ]
  },
  {
   "cell_type": "code",
   "execution_count": null,
   "metadata": {
    "colab": {
     "base_uri": "https://localhost:8080/"
    },
    "id": "m2vV70cZ9Ips",
    "outputId": "90cc8e0c-2b8a-4cd7-bcec-5ddb36995e0a"
   },
   "outputs": [
    {
     "data": {
      "text/plain": [
       "XGBClassifier(base_score=0.5, booster='gbtree', colsample_bylevel=1,\n",
       "              colsample_bynode=1, colsample_bytree=1, gamma=0,\n",
       "              learning_rate=0.2, max_delta_step=0, max_depth=13,\n",
       "              min_child_weight=1, missing=None, n_estimators=30, n_jobs=1,\n",
       "              nthread=None, objective='binary:logistic', random_state=0,\n",
       "              reg_alpha=0, reg_lambda=1, scale_pos_weight=1, seed=None,\n",
       "              silent=None, subsample=0.9, verbosity=1)"
      ]
     },
     "execution_count": 85,
     "metadata": {
      "tags": []
     },
     "output_type": "execute_result"
    }
   ],
   "source": [
    "model2 = XGBClassifier(learning_rate= 0.2, max_depth= 13, n_estimators= 30, subsample= 0.9)\n",
    "model2.fit(x_train,y_train)"
   ]
  },
  {
   "cell_type": "code",
   "execution_count": null,
   "metadata": {
    "colab": {
     "base_uri": "https://localhost:8080/"
    },
    "id": "a8FbqArk-FvJ",
    "outputId": "33280ef2-21b8-44f1-ed2e-0bd624475681"
   },
   "outputs": [
    {
     "data": {
      "text/plain": [
       "array([1, 1, 1, ..., 1, 1, 1])"
      ]
     },
     "execution_count": 115,
     "metadata": {
      "tags": []
     },
     "output_type": "execute_result"
    }
   ],
   "source": [
    "y_pred2 = model2.predict(x_test)\n",
    "y_pred2"
   ]
  },
  {
   "cell_type": "code",
   "execution_count": null,
   "metadata": {
    "colab": {
     "base_uri": "https://localhost:8080/",
     "height": 181
    },
    "id": "NbI54o4y-Nzz",
    "outputId": "acdcfd85-83be-4797-87b5-d8bcc0684914"
   },
   "outputs": [
    {
     "name": "stdout",
     "output_type": "stream",
     "text": [
      "[[ 99464  50926]\n",
      " [   276 149826]]\n"
     ]
    },
    {
     "data": {
      "text/html": [
       "<div>\n",
       "<style scoped>\n",
       "    .dataframe tbody tr th:only-of-type {\n",
       "        vertical-align: middle;\n",
       "    }\n",
       "\n",
       "    .dataframe tbody tr th {\n",
       "        vertical-align: top;\n",
       "    }\n",
       "\n",
       "    .dataframe thead th {\n",
       "        text-align: right;\n",
       "    }\n",
       "</style>\n",
       "<table border=\"1\" class=\"dataframe\">\n",
       "  <thead>\n",
       "    <tr style=\"text-align: right;\">\n",
       "      <th>col_0</th>\n",
       "      <th>0</th>\n",
       "      <th>1</th>\n",
       "    </tr>\n",
       "    <tr>\n",
       "      <th>row_0</th>\n",
       "      <th></th>\n",
       "      <th></th>\n",
       "    </tr>\n",
       "  </thead>\n",
       "  <tbody>\n",
       "    <tr>\n",
       "      <th>0</th>\n",
       "      <td>99464</td>\n",
       "      <td>50926</td>\n",
       "    </tr>\n",
       "    <tr>\n",
       "      <th>1</th>\n",
       "      <td>276</td>\n",
       "      <td>149826</td>\n",
       "    </tr>\n",
       "  </tbody>\n",
       "</table>\n",
       "</div>"
      ],
      "text/plain": [
       "col_0      0       1\n",
       "row_0               \n",
       "0      99464   50926\n",
       "1        276  149826"
      ]
     },
     "execution_count": 116,
     "metadata": {
      "tags": []
     },
     "output_type": "execute_result"
    }
   ],
   "source": [
    "from sklearn.metrics import accuracy_score ,classification_report,confusion_matrix\n",
    "print(confusion_matrix(y_test,y_pred2))\n",
    "pd.crosstab(y_test,y_pred2)"
   ]
  },
  {
   "cell_type": "code",
   "execution_count": null,
   "metadata": {
    "colab": {
     "base_uri": "https://localhost:8080/"
    },
    "id": "qh-od142-WJD",
    "outputId": "2d9f2a35-d38a-4145-cdb0-bbb56487bd57"
   },
   "outputs": [
    {
     "data": {
      "text/plain": [
       "83.39"
      ]
     },
     "execution_count": 126,
     "metadata": {
      "tags": []
     },
     "output_type": "execute_result"
    }
   ],
   "source": [
    "train=round(model2.score(x_train,y_train) * 100, 2)\n",
    "train"
   ]
  },
  {
   "cell_type": "code",
   "execution_count": null,
   "metadata": {
    "colab": {
     "base_uri": "https://localhost:8080/"
    },
    "id": "R3_EfX0R-WFV",
    "outputId": "3247f6e1-f8c9-4c18-8646-7a70e07b21e9"
   },
   "outputs": [
    {
     "data": {
      "text/plain": [
       "82.96"
      ]
     },
     "execution_count": 118,
     "metadata": {
      "tags": []
     },
     "output_type": "execute_result"
    }
   ],
   "source": [
    "test_acc=round(accuracy_score(y_test,y_pred2)*100,2)\n",
    "test_acc"
   ]
  },
  {
   "cell_type": "markdown",
   "metadata": {
    "id": "kehtu3jjlGCM"
   },
   "source": [
    "**AdaBoost**"
   ]
  },
  {
   "cell_type": "code",
   "execution_count": null,
   "metadata": {
    "colab": {
     "base_uri": "https://localhost:8080/"
    },
    "id": "lTOEchmh-V0o",
    "outputId": "8d8da1cd-bf36-41ed-c6e2-9ddbc6d3c781"
   },
   "outputs": [
    {
     "name": "stderr",
     "output_type": "stream",
     "text": [
      "/usr/local/lib/python3.7/dist-packages/sklearn/model_selection/_split.py:296: FutureWarning: Setting a random_state has no effect since shuffle is False. This will raise an error in 0.24. You should leave random_state to its default (None), or set shuffle=True.\n",
      "  FutureWarning\n"
     ]
    }
   ],
   "source": [
    "clf3 = AdaBoostClassifier()\n",
    "params3 = {'n_estimators': [10,20,50]}\n",
    "cv = StratifiedKFold(n_splits=3,random_state=42)"
   ]
  },
  {
   "cell_type": "code",
   "execution_count": null,
   "metadata": {
    "colab": {
     "base_uri": "https://localhost:8080/"
    },
    "id": "Zf2kIEuyJKS8",
    "outputId": "2403eb80-06ba-4e91-abb6-dd77bde61e07"
   },
   "outputs": [
    {
     "data": {
      "text/plain": [
       "GridSearchCV(cv=StratifiedKFold(n_splits=3, random_state=42, shuffle=False),\n",
       "             error_score=0,\n",
       "             estimator=AdaBoostClassifier(algorithm='SAMME.R',\n",
       "                                          base_estimator=None,\n",
       "                                          learning_rate=1.0, n_estimators=50,\n",
       "                                          random_state=None),\n",
       "             iid='deprecated', n_jobs=-1,\n",
       "             param_grid={'n_estimators': [10, 20, 50]}, pre_dispatch='2*n_jobs',\n",
       "             refit=True, return_train_score=False, scoring='accuracy',\n",
       "             verbose=0)"
      ]
     },
     "execution_count": 96,
     "metadata": {
      "tags": []
     },
     "output_type": "execute_result"
    }
   ],
   "source": [
    "grid = GridSearchCV(clf3,params3,scoring='accuracy',n_jobs=-1,cv=cv,error_score=0)\n",
    "grid.fit(x_train,y_train)"
   ]
  },
  {
   "cell_type": "code",
   "execution_count": null,
   "metadata": {
    "colab": {
     "base_uri": "https://localhost:8080/"
    },
    "id": "PGzM6bVWJblq",
    "outputId": "995bb982-aa1d-4c43-8acf-d95bb790d053"
   },
   "outputs": [
    {
     "name": "stdout",
     "output_type": "stream",
     "text": [
      "Best: 0.786077 using {'n_estimators': 50}\n"
     ]
    }
   ],
   "source": [
    "print(\"Best: %f using %s\" % (grid.best_score_,grid.best_params_))"
   ]
  },
  {
   "cell_type": "code",
   "execution_count": null,
   "metadata": {
    "colab": {
     "base_uri": "https://localhost:8080/"
    },
    "id": "sTENPv-AmqFx",
    "outputId": "4f5966d0-d7ed-4c4d-d2ce-fee3350c5f76"
   },
   "outputs": [
    {
     "data": {
      "text/plain": [
       "AdaBoostClassifier(algorithm='SAMME.R',\n",
       "                   base_estimator=DecisionTreeClassifier(ccp_alpha=0.0,\n",
       "                                                         class_weight=None,\n",
       "                                                         criterion='gini',\n",
       "                                                         max_depth=10,\n",
       "                                                         max_features=9,\n",
       "                                                         max_leaf_nodes=None,\n",
       "                                                         min_impurity_decrease=0.0,\n",
       "                                                         min_impurity_split=None,\n",
       "                                                         min_samples_leaf=1,\n",
       "                                                         min_samples_split=2,\n",
       "                                                         min_weight_fraction_leaf=0.0,\n",
       "                                                         presort='deprecated',\n",
       "                                                         random_state=None,\n",
       "                                                         splitter='best'),\n",
       "                   learning_rate=1.0, n_estimators=50, random_state=None)"
      ]
     },
     "execution_count": 98,
     "metadata": {
      "tags": []
     },
     "output_type": "execute_result"
    }
   ],
   "source": [
    "model3 = AdaBoostClassifier(DecisionTreeClassifier(criterion='gini',max_depth=10,max_features=9),n_estimators=50)\n",
    "model3.fit(x_train,y_train)"
   ]
  },
  {
   "cell_type": "code",
   "execution_count": null,
   "metadata": {
    "colab": {
     "base_uri": "https://localhost:8080/"
    },
    "id": "n3eDfggUnRSc",
    "outputId": "39470b30-1224-4c5c-b752-79c857e28ef8"
   },
   "outputs": [
    {
     "data": {
      "text/plain": [
       "array([1, 1, 1, ..., 1, 1, 1])"
      ]
     },
     "execution_count": 119,
     "metadata": {
      "tags": []
     },
     "output_type": "execute_result"
    }
   ],
   "source": [
    "y_pred3 = model3.predict(x_test)\n",
    "y_pred3"
   ]
  },
  {
   "cell_type": "code",
   "execution_count": null,
   "metadata": {
    "colab": {
     "base_uri": "https://localhost:8080/",
     "height": 181
    },
    "id": "CXwEpBm0nRHF",
    "outputId": "1bdf861f-d213-4c87-f27e-716b0b89a769"
   },
   "outputs": [
    {
     "name": "stdout",
     "output_type": "stream",
     "text": [
      "[[102208  48182]\n",
      " [  5982 144120]]\n"
     ]
    },
    {
     "data": {
      "text/html": [
       "<div>\n",
       "<style scoped>\n",
       "    .dataframe tbody tr th:only-of-type {\n",
       "        vertical-align: middle;\n",
       "    }\n",
       "\n",
       "    .dataframe tbody tr th {\n",
       "        vertical-align: top;\n",
       "    }\n",
       "\n",
       "    .dataframe thead th {\n",
       "        text-align: right;\n",
       "    }\n",
       "</style>\n",
       "<table border=\"1\" class=\"dataframe\">\n",
       "  <thead>\n",
       "    <tr style=\"text-align: right;\">\n",
       "      <th>col_0</th>\n",
       "      <th>0</th>\n",
       "      <th>1</th>\n",
       "    </tr>\n",
       "    <tr>\n",
       "      <th>row_0</th>\n",
       "      <th></th>\n",
       "      <th></th>\n",
       "    </tr>\n",
       "  </thead>\n",
       "  <tbody>\n",
       "    <tr>\n",
       "      <th>0</th>\n",
       "      <td>102208</td>\n",
       "      <td>48182</td>\n",
       "    </tr>\n",
       "    <tr>\n",
       "      <th>1</th>\n",
       "      <td>5982</td>\n",
       "      <td>144120</td>\n",
       "    </tr>\n",
       "  </tbody>\n",
       "</table>\n",
       "</div>"
      ],
      "text/plain": [
       "col_0       0       1\n",
       "row_0                \n",
       "0      102208   48182\n",
       "1        5982  144120"
      ]
     },
     "execution_count": 120,
     "metadata": {
      "tags": []
     },
     "output_type": "execute_result"
    }
   ],
   "source": [
    "from sklearn.metrics import accuracy_score ,classification_report,confusion_matrix\n",
    "print(confusion_matrix(y_test,y_pred3))\n",
    "pd.crosstab(y_test,y_pred3)"
   ]
  },
  {
   "cell_type": "code",
   "execution_count": null,
   "metadata": {
    "colab": {
     "base_uri": "https://localhost:8080/"
    },
    "id": "OGUvZBmcnblN",
    "outputId": "8427f18b-5c9d-46a3-9535-8703f0718524"
   },
   "outputs": [
    {
     "data": {
      "text/plain": [
       "84.77"
      ]
     },
     "execution_count": 127,
     "metadata": {
      "tags": []
     },
     "output_type": "execute_result"
    }
   ],
   "source": [
    "train=round(model3.score(x_train,y_train) * 100, 2)\n",
    "train"
   ]
  },
  {
   "cell_type": "code",
   "execution_count": null,
   "metadata": {
    "colab": {
     "base_uri": "https://localhost:8080/"
    },
    "id": "px2ptHRgncnc",
    "outputId": "7916fe22-9f24-438d-b729-f123f72c423f"
   },
   "outputs": [
    {
     "data": {
      "text/plain": [
       "81.97"
      ]
     },
     "execution_count": 122,
     "metadata": {
      "tags": []
     },
     "output_type": "execute_result"
    }
   ],
   "source": [
    "test_acc=round(accuracy_score(y_test,y_pred3)*100,2)\n",
    "test_acc"
   ]
  },
  {
   "cell_type": "markdown",
   "metadata": {
    "id": "AK203Tl0shcf"
   },
   "source": [
    "**Logistic Regression**"
   ]
  },
  {
   "cell_type": "code",
   "execution_count": null,
   "metadata": {
    "colab": {
     "base_uri": "https://localhost:8080/"
    },
    "id": "5zzvS00xqH2l",
    "outputId": "af283532-3616-4559-ba0f-ada77ede1d09"
   },
   "outputs": [
    {
     "data": {
      "text/plain": [
       "LogisticRegression(C=1.0, class_weight=None, dual=False, fit_intercept=True,\n",
       "                   intercept_scaling=1, l1_ratio=None, max_iter=100,\n",
       "                   multi_class='auto', n_jobs=None, penalty='l2',\n",
       "                   random_state=None, solver='lbfgs', tol=0.0001, verbose=0,\n",
       "                   warm_start=False)"
      ]
     },
     "execution_count": 131,
     "metadata": {
      "tags": []
     },
     "output_type": "execute_result"
    }
   ],
   "source": [
    "model4= LogisticRegression()\n",
    "model4.fit(x_train,y_train)"
   ]
  },
  {
   "cell_type": "code",
   "execution_count": null,
   "metadata": {
    "colab": {
     "base_uri": "https://localhost:8080/"
    },
    "id": "9-4zrEPhqHzc",
    "outputId": "a6dab88e-c123-402d-b09b-c0fca3b24408"
   },
   "outputs": [
    {
     "data": {
      "text/plain": [
       "array([1, 1, 1, ..., 1, 1, 1])"
      ]
     },
     "execution_count": 132,
     "metadata": {
      "tags": []
     },
     "output_type": "execute_result"
    }
   ],
   "source": [
    "y_pred4 = model.predict(x_test)\n",
    "y_pred4"
   ]
  },
  {
   "cell_type": "code",
   "execution_count": null,
   "metadata": {
    "colab": {
     "base_uri": "https://localhost:8080/",
     "height": 181
    },
    "id": "C93VvqogqHv-",
    "outputId": "78b56939-ecc1-4bab-fe73-7304acbf6970"
   },
   "outputs": [
    {
     "name": "stdout",
     "output_type": "stream",
     "text": [
      "[[ 92643  57747]\n",
      " [   939 149163]]\n"
     ]
    },
    {
     "data": {
      "text/html": [
       "<div>\n",
       "<style scoped>\n",
       "    .dataframe tbody tr th:only-of-type {\n",
       "        vertical-align: middle;\n",
       "    }\n",
       "\n",
       "    .dataframe tbody tr th {\n",
       "        vertical-align: top;\n",
       "    }\n",
       "\n",
       "    .dataframe thead th {\n",
       "        text-align: right;\n",
       "    }\n",
       "</style>\n",
       "<table border=\"1\" class=\"dataframe\">\n",
       "  <thead>\n",
       "    <tr style=\"text-align: right;\">\n",
       "      <th>col_0</th>\n",
       "      <th>0</th>\n",
       "      <th>1</th>\n",
       "    </tr>\n",
       "    <tr>\n",
       "      <th>row_0</th>\n",
       "      <th></th>\n",
       "      <th></th>\n",
       "    </tr>\n",
       "  </thead>\n",
       "  <tbody>\n",
       "    <tr>\n",
       "      <th>0</th>\n",
       "      <td>92643</td>\n",
       "      <td>57747</td>\n",
       "    </tr>\n",
       "    <tr>\n",
       "      <th>1</th>\n",
       "      <td>939</td>\n",
       "      <td>149163</td>\n",
       "    </tr>\n",
       "  </tbody>\n",
       "</table>\n",
       "</div>"
      ],
      "text/plain": [
       "col_0      0       1\n",
       "row_0               \n",
       "0      92643   57747\n",
       "1        939  149163"
      ]
     },
     "execution_count": 133,
     "metadata": {
      "tags": []
     },
     "output_type": "execute_result"
    }
   ],
   "source": [
    "from sklearn.metrics import accuracy_score ,classification_report,confusion_matrix\n",
    "print(confusion_matrix(y_test,y_pred4))\n",
    "pd.crosstab(y_test,y_pred4)"
   ]
  },
  {
   "cell_type": "code",
   "execution_count": null,
   "metadata": {
    "colab": {
     "base_uri": "https://localhost:8080/"
    },
    "id": "GibXF9MMqHjF",
    "outputId": "5159370a-8c1b-4764-ec37-9172a0218ebf"
   },
   "outputs": [
    {
     "data": {
      "text/plain": [
       "50.48"
      ]
     },
     "execution_count": 134,
     "metadata": {
      "tags": []
     },
     "output_type": "execute_result"
    }
   ],
   "source": [
    "train=round(Model4.score(x_train,y_train) * 100, 2)\n",
    "train"
   ]
  },
  {
   "cell_type": "code",
   "execution_count": null,
   "metadata": {
    "colab": {
     "base_uri": "https://localhost:8080/"
    },
    "id": "kniYkIm-sS4S",
    "outputId": "15e4956d-485e-4dad-ff01-ce8f85a158da"
   },
   "outputs": [
    {
     "data": {
      "text/plain": [
       "80.47"
      ]
     },
     "execution_count": 135,
     "metadata": {
      "tags": []
     },
     "output_type": "execute_result"
    }
   ],
   "source": [
    "test_acc=round(accuracy_score(y_test,y_pred4)*100,2)\n",
    "test_acc"
   ]
  },
  {
   "cell_type": "markdown",
   "metadata": {
    "id": "JMrYyjKHEVwi"
   },
   "source": [
    "# From the above methods we can finalize Decision Tree as the best method for the fraud detection"
   ]
  }
 ],
 "metadata": {
  "accelerator": "GPU",
  "colab": {
   "collapsed_sections": [],
   "name": "Final_DT.ipynb",
   "provenance": []
  },
  "kernelspec": {
   "display_name": "Python 3",
   "language": "python",
   "name": "python3"
  },
  "language_info": {
   "codemirror_mode": {
    "name": "ipython",
    "version": 3
   },
   "file_extension": ".py",
   "mimetype": "text/x-python",
   "name": "python",
   "nbconvert_exporter": "python",
   "pygments_lexer": "ipython3",
   "version": "3.8.5"
  }
 },
 "nbformat": 4,
 "nbformat_minor": 1
}
